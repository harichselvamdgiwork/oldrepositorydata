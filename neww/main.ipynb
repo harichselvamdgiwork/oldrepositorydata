{
 "cells": [
  {
   "cell_type": "code",
   "execution_count": 4,
   "metadata": {},
   "outputs": [],
   "source": [
    "from PIL import Image, ImageDraw\n",
    "\n",
    "def draw_rectangle_on_image(image_path, output_path, start_y, end_y):\n",
    "    # Open the input image\n",
    "    img = Image.open(image_path)\n",
    "    \n",
    "    # Create a drawing object\n",
    "    draw = ImageDraw.Draw(img)\n",
    "    \n",
    "    # Get image width and height\n",
    "    width, height = img.size\n",
    "    \n",
    "    # Define the coordinates for the rectangle\n",
    "    # Rectangle spans the full width of the image, but with a custom height\n",
    "    left = 0\n",
    "    upper = start_y  # Starting y-coordinate for the rectangle\n",
    "    right = width\n",
    "    lower = end_y    # Ending y-coordinate for the rectangle\n",
    "    \n",
    "    # Draw the rectangle on the image\n",
    "    draw.rectangle([left, upper, right, lower], outline=\"red\", width=3)\n",
    "    \n",
    "    # Save the modified image with the rectangle drawn\n",
    "    img.save(output_path)\n",
    "\n",
    "if __name__ == \"__main__\":\n",
    "    # Specify the input image path\n",
    "    input_path = \"page_1.png\"\n",
    "    \n",
    "    # Specify the output image path\n",
    "    output_path = \"image_with_rectangle.png\"\n",
    "    \n",
    "    # Define the start and end y-coordinates for the rectangle\n",
    "    start_y = 1300  # Adjust this value based on where you want the rectangle to start\n",
    "    end_y = 1750   # Adjust this value based on where you want the rectangle to end\n",
    "    \n",
    "    # Call the function to draw the rectangle on the image\n",
    "    draw_rectangle_on_image(input_path, output_path, start_y, end_y)\n"
   ]
  },
  {
   "cell_type": "code",
   "execution_count": 5,
   "metadata": {},
   "outputs": [],
   "source": [
    "from PIL import Image, ImageDraw\n",
    "\n",
    "def crop_and_save_region(image_path, output_path, start_y, end_y):\n",
    "    # Open the input image\n",
    "    img = Image.open(image_path)\n",
    "    \n",
    "    # Get image width and height\n",
    "    width, height = img.size\n",
    "    \n",
    "    # Define the coordinates for the rectangle\n",
    "    # Rectangle spans the full width of the image, but with a custom height\n",
    "    left = 0\n",
    "    upper = start_y  # Starting y-coordinate for the rectangle\n",
    "    right = width\n",
    "    lower = end_y    # Ending y-coordinate for the rectangle\n",
    "    \n",
    "    # Crop the region defined by the rectangle coordinates\n",
    "    cropped_img = img.crop((left, upper, right, lower))\n",
    "    \n",
    "    # Save the cropped region as PNG\n",
    "    cropped_img.save(output_path)\n",
    "\n",
    "if __name__ == \"__main__\":\n",
    "    # Specify the input image path\n",
    "    input_path = \"page_1.png\"\n",
    "    \n",
    "    # Specify the output image path for the cropped region\n",
    "    output_path = \"cropped_region.png\"\n",
    "    \n",
    "    # Define the start and end y-coordinates for the rectangle\n",
    "    start_y = 1300  # Adjust this value based on where you want the rectangle to start\n",
    "    end_y = 1750   # Adjust this value based on where you want the rectangle to end\n",
    "    \n",
    "    # Call the function to crop and save the specified region\n",
    "    crop_and_save_region(input_path, output_path, start_y, end_y)\n"
   ]
  },
  {
   "cell_type": "code",
   "execution_count": 1,
   "metadata": {},
   "outputs": [
    {
     "name": "stdout",
     "output_type": "stream",
     "text": [
      "CPU times: total: 16.3 s\n",
      "Wall time: 1min 29s\n"
     ]
    }
   ],
   "source": [
    "%%time\n",
    "import os\n",
    "from PIL import Image\n",
    "\n",
    "def crop_and_save_region(image_path, output_path, start_y, end_y):\n",
    "    # Open the input image\n",
    "    img = Image.open(image_path)\n",
    "    \n",
    "    # Get image width and height\n",
    "    width, height = img.size\n",
    "    \n",
    "    # Define the coordinates for the rectangle\n",
    "    left = 0\n",
    "    upper = start_y  # Starting y-coordinate for the rectangle\n",
    "    right = width\n",
    "    lower = end_y    # Ending y-coordinate for the rectangle\n",
    "    \n",
    "    # Crop the region defined by the rectangle coordinates\n",
    "    cropped_img = img.crop((left, upper, right, lower))\n",
    "    \n",
    "    # Save the cropped region as PNG\n",
    "    cropped_img.save(output_path)\n",
    "\n",
    "def process_images_in_folder(input_folder, output_folder, start_y, end_y):\n",
    "    # Create the output folder if it doesn't exist\n",
    "    os.makedirs(output_folder, exist_ok=True)\n",
    "    \n",
    "    # Recursively process each file and folder in the input folder\n",
    "    for root, dirs, files in os.walk(input_folder):\n",
    "        for file in files:\n",
    "            if file.endswith((\".jpg\", \".jpeg\", \".png\", \".gif\")):  # Process image files\n",
    "                input_file_path = os.path.join(root, file)\n",
    "                \n",
    "                # Determine output subfolder path within croppedimages folder\n",
    "                relative_path = os.path.relpath(root, input_folder)\n",
    "                output_subfolder = os.path.join(output_folder, relative_path)\n",
    "                os.makedirs(output_subfolder, exist_ok=True)\n",
    "                \n",
    "                # Define output file path\n",
    "                output_file_path = os.path.join(output_subfolder, file)\n",
    "                \n",
    "                # Crop and save the image\n",
    "                crop_and_save_region(input_file_path, output_file_path, start_y, end_y)\n",
    "\n",
    "if __name__ == \"__main__\":\n",
    "    # Specify the input folder containing subfolders with images\n",
    "    input_folder = \"data\"\n",
    "    \n",
    "    # Specify the output folder for cropped images\n",
    "    output_folder = \"croppedimages\"\n",
    "    \n",
    "    start_y = 1300  # Adjust this value based on where you want the rectangle to start\n",
    "    end_y = 1750    # Adjust this value based on where you want the rectangle to end\n",
    "    \n",
    "    # Process images in the input folder and save cropped images to output folder\n",
    "    process_images_in_folder(input_folder, output_folder, start_y, end_y)\n"
   ]
  },
  {
   "cell_type": "code",
   "execution_count": 12,
   "metadata": {},
   "outputs": [],
   "source": [
    "from PIL import Image\n",
    "\n",
    "def save_left_half(image_path, output_path):\n",
    "    # Load the image\n",
    "    img = Image.open(image_path)\n",
    "    \n",
    "    # Calculate dimensions to split the image in half\n",
    "    width, height = img.size\n",
    "    end_x = width // 2  # End at half width to get the left half\n",
    "    box = (0, 0, end_x, height)  # Define the box to crop to\n",
    "    \n",
    "    # Crop the image to the left half\n",
    "    left_half = img.crop(box)\n",
    "    \n",
    "    # Save the cropped image with high DPI\n",
    "    # Note: DPI setting is for print resolution and does not affect the display quality on screen.\n",
    "    left_half.save(output_path, dpi=(300, 300))  # 300 DPI is typically considered high quality for printing\n",
    "\n",
    "# Example usage\n",
    "save_left_half('page_1.png', 'left_half_image.jpg')\n"
   ]
  },
  {
   "cell_type": "code",
   "execution_count": 13,
   "metadata": {},
   "outputs": [
    {
     "name": "stdout",
     "output_type": "stream",
     "text": [
      "Extracted Text:\n",
      "['3.', 'வாக்குச்', 'சாவடியின்', 'விவரங்கள்', 'வாக்குச்', 'சாவடியின்', 'எண்', 'மற்றும்', 'பெயர்%', '17ர்சி', 'ஆரம்பப்பள்ளிவடக்கு', 'புதியகட்டிடம்', 'தெற்குபாகம்\\\\கீழப்பாவூர்', 'வாக்குச்', 'சாவடியின்', 'முகவரிஃ', 'ஆர்சி', 'ஆரம்பப்பள்ளி\\\\வடக்கு', 'புதியகட்டிடம்', 'தெற்குபாகம்\\\\ழப்பாவூர்:']\n"
     ]
    }
   ],
   "source": [
    "from ocr_tamil.ocr import OCR\n",
    "\n",
    "# Specify the path to your image file\n",
    "image_path = r\"left_half_image.jpg\"  # Insert your own image path here\n",
    "\n",
    "# Initialize the OCR object\n",
    "ocr = OCR(detect=True)  # Assuming 'detect' is a parameter for text detection\n",
    "\n",
    "# Use OCR to predict text from the image\n",
    "texts = ocr.predict(image_path)\n",
    "\n",
    "# Check if any text was detected and print the results\n",
    "if texts:\n",
    "    # Assuming text_list is the variable name, using 'texts' instead\n",
    "    print(\"Extracted Text:\")\n",
    "    for text in texts:\n",
    "        print(text)\n",
    "else:\n",
    "    print(\"No text detected.\")\n"
   ]
  },
  {
   "cell_type": "code",
   "execution_count": 15,
   "metadata": {},
   "outputs": [
    {
     "name": "stdout",
     "output_type": "stream",
     "text": [
      "3. வாக்குச் சாவடியின் விவரங்கள் வாக்குச் சாவடியின் எண் மற்றும் பெயர்% 17ர்சி ஆரம்பப்பள்ளிவடக்கு புதியகட்டிடம் தெற்குபாகம்\\கீழப்பாவூர் வாக்குச் சாவடியின் முகவரிஃ ஆர்சி ஆரம்பப்பள்ளி\\வடக்கு புதியகட்டிடம் தெற்குபாகம்\\ழப்பாவூர்:\n"
     ]
    }
   ],
   "source": [
    "from ocr_tamil.ocr import OCR\n",
    "\n",
    "# Define a list of image paths\n",
    "image_paths = [r\"left_half_image.jpg\"]  # Insert your own image paths here\n",
    "\n",
    "# Initialize the OCR object with text detection enabled\n",
    "ocr = OCR(detect=True)\n",
    "\n",
    "# Use OCR to predict text from each image in the list\n",
    "text_list = ocr.predict(image_paths)\n",
    "\n",
    "# Iterate through the text_list and print the extracted text from each image\n",
    "for text in text_list:\n",
    "    print(\" \".join(text))\n"
   ]
  },
  {
   "cell_type": "code",
   "execution_count": 19,
   "metadata": {},
   "outputs": [
    {
     "name": "stdout",
     "output_type": "stream",
     "text": [
      "ஃ ஆர்சி ஆரம்பப்பள்ளி\\வடக்கு புதியகட்டிடம் தெற்குபாகம்\\ழப்பாவூர்:\n"
     ]
    }
   ],
   "source": [
    "import re\n",
    "from ocr_tamil.ocr import OCR\n",
    "\n",
    "# Define a list of image paths\n",
    "image_paths = [r\"left_half_image.jpg\"]  # Replace with your actual image path\n",
    "\n",
    "# Initialize the OCR object with text detection enabled\n",
    "ocr = OCR(detect=True)\n",
    "\n",
    "# Use OCR to predict text from each image in the list\n",
    "text_list = ocr.predict(image_paths)\n",
    "\n",
    "# Function to extract the required text segment after a specific marker\n",
    "def extract_text_after_marker(text, marker):\n",
    "    # Find the index of the marker\n",
    "    marker_index = text.find(marker)\n",
    "    \n",
    "    # If the marker is found, extract text after it\n",
    "    if marker_index != -1:\n",
    "        # The +1 is to include the space after the colon, adjust as needed\n",
    "        return text[marker_index + len(marker):].strip()\n",
    "    else:\n",
    "        return \"Marker not found\"\n",
    "\n",
    "# Iterate through the text_list and print the extracted text from each image\n",
    "for text in text_list:\n",
    "    full_text = \" \".join(text)\n",
    "    extracted_text = extract_text_after_marker(full_text, \"வாக்குச் சாவடியின் முகவரி\")\n",
    "    print(extracted_text)\n"
   ]
  },
  {
   "cell_type": "code",
   "execution_count": 1,
   "metadata": {},
   "outputs": [
    {
     "name": "stdout",
     "output_type": "stream",
     "text": [
      "Images have been renamed and copied to the destination folder successfully.\n"
     ]
    }
   ],
   "source": [
    "import os\n",
    "import shutil\n",
    "\n",
    "# Define the source and destination directories\n",
    "source_dir = r'C:\\Users\\haric\\OneDrive\\Desktop\\neww\\croppedimages'\n",
    "destination_dir = r'C:\\Users\\haric\\OneDrive\\Desktop\\neww\\all_in_one'\n",
    "\n",
    "# Create the destination directory if it doesn't exist\n",
    "os.makedirs(destination_dir, exist_ok=True)\n",
    "\n",
    "# Traverse through all subfolders in the source directory\n",
    "for subdir, _, files in os.walk(source_dir):\n",
    "    for file in files:\n",
    "        if file.lower().endswith(('.png', '.jpg', '.jpeg', '.gif', '.bmp')):  # Add other image formats if needed\n",
    "            # Construct the full file path\n",
    "            file_path = os.path.join(subdir, file)\n",
    "            \n",
    "            # Get the subfolder name\n",
    "            subfolder_name = os.path.basename(subdir)\n",
    "            \n",
    "            # Create the new file name with subfolder name\n",
    "            new_file_name = f\"{subfolder_name}_{file}\"\n",
    "            \n",
    "            # Construct the destination file path\n",
    "            destination_file_path = os.path.join(destination_dir, new_file_name)\n",
    "            \n",
    "            # Copy the file to the destination directory\n",
    "            shutil.copy(file_path, destination_file_path)\n",
    "\n",
    "print(\"Images have been renamed and copied to the destination folder successfully.\")\n"
   ]
  }
 ],
 "metadata": {
  "kernelspec": {
   "display_name": "base",
   "language": "python",
   "name": "python3"
  },
  "language_info": {
   "codemirror_mode": {
    "name": "ipython",
    "version": 3
   },
   "file_extension": ".py",
   "mimetype": "text/x-python",
   "name": "python",
   "nbconvert_exporter": "python",
   "pygments_lexer": "ipython3",
   "version": "3.11.7"
  }
 },
 "nbformat": 4,
 "nbformat_minor": 2
}
